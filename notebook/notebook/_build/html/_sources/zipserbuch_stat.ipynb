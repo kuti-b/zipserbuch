{
 "cells": [
  {
   "cell_type": "markdown",
   "id": "174e2806",
   "metadata": {},
   "source": [
    "# Lőcsei demográfiai változások 1620-1667 között"
   ]
  },
  {
   "cell_type": "code",
   "execution_count": 1,
   "id": "af689e85",
   "metadata": {},
   "outputs": [
    {
     "data": {
      "text/html": [
       "<div>\n",
       "<style scoped>\n",
       "    .dataframe tbody tr th:only-of-type {\n",
       "        vertical-align: middle;\n",
       "    }\n",
       "\n",
       "    .dataframe tbody tr th {\n",
       "        vertical-align: top;\n",
       "    }\n",
       "\n",
       "    .dataframe thead th {\n",
       "        text-align: right;\n",
       "    }\n",
       "</style>\n",
       "<table border=\"1\" class=\"dataframe\">\n",
       "  <thead>\n",
       "    <tr style=\"text-align: right;\">\n",
       "      <th></th>\n",
       "      <th>lőcsei családok 1600</th>\n",
       "      <th>lőcsei családok 1667</th>\n",
       "    </tr>\n",
       "  </thead>\n",
       "  <tbody>\n",
       "    <tr>\n",
       "      <th>0</th>\n",
       "      <td>Abscheimen</td>\n",
       "      <td>Aaron</td>\n",
       "    </tr>\n",
       "    <tr>\n",
       "      <th>1</th>\n",
       "      <td>Abzieher</td>\n",
       "      <td>Abrachamides</td>\n",
       "    </tr>\n",
       "    <tr>\n",
       "      <th>2</th>\n",
       "      <td>Audrich</td>\n",
       "      <td>Achband</td>\n",
       "    </tr>\n",
       "    <tr>\n",
       "      <th>3</th>\n",
       "      <td>Bank</td>\n",
       "      <td>Adam</td>\n",
       "    </tr>\n",
       "    <tr>\n",
       "      <th>4</th>\n",
       "      <td>Bardt</td>\n",
       "      <td>Adami</td>\n",
       "    </tr>\n",
       "  </tbody>\n",
       "</table>\n",
       "</div>"
      ],
      "text/plain": [
       "  lőcsei családok 1600 lőcsei családok 1667\n",
       "0           Abscheimen                Aaron\n",
       "1             Abzieher         Abrachamides\n",
       "2              Audrich              Achband\n",
       "3                 Bank                 Adam\n",
       "4                Bardt                Adami"
      ]
     },
     "execution_count": 1,
     "metadata": {},
     "output_type": "execute_result"
    }
   ],
   "source": [
    "import pandas\n",
    "import matplotlib.pyplot as plt\n",
    "from matplotlib_venn import venn2\n",
    "from ipydatagrid import DataGrid\n",
    "import ipywidgets as widgets\n",
    "from ipywidgets import interactive\n",
    "from ipywidgets import interact\n",
    "\n",
    "\n",
    "records = pandas.read_excel('nevsor.xlsx')\n",
    "\n",
    "records.head(5)"
   ]
  },
  {
   "cell_type": "code",
   "execution_count": 2,
   "id": "be676c79",
   "metadata": {},
   "outputs": [
    {
     "data": {
      "text/html": [
       "<div>\n",
       "<style scoped>\n",
       "    .dataframe tbody tr th:only-of-type {\n",
       "        vertical-align: middle;\n",
       "    }\n",
       "\n",
       "    .dataframe tbody tr th {\n",
       "        vertical-align: top;\n",
       "    }\n",
       "\n",
       "    .dataframe thead th {\n",
       "        text-align: right;\n",
       "    }\n",
       "</style>\n",
       "<table border=\"1\" class=\"dataframe\">\n",
       "  <thead>\n",
       "    <tr style=\"text-align: right;\">\n",
       "      <th></th>\n",
       "      <th>id</th>\n",
       "      <th>név</th>\n",
       "      <th>születési hely</th>\n",
       "      <th>névváltozat</th>\n",
       "      <th>foglalkozás</th>\n",
       "      <th>életrajzi hivatkozás</th>\n",
       "      <th>rövid leírás</th>\n",
       "      <th>RMNy (alkalmi)</th>\n",
       "    </tr>\n",
       "  </thead>\n",
       "  <tbody>\n",
       "    <tr>\n",
       "      <th>0</th>\n",
       "      <td>1</td>\n",
       "      <td>[szervezet] a besztercebányai evangélikus isko...</td>\n",
       "      <td>NaN</td>\n",
       "      <td>NaN</td>\n",
       "      <td>vizsga</td>\n",
       "      <td>NaN</td>\n",
       "      <td>A tételeket 1642 májusában vitatták meg a besz...</td>\n",
       "      <td>1934</td>\n",
       "    </tr>\n",
       "    <tr>\n",
       "      <th>1</th>\n",
       "      <td>2</td>\n",
       "      <td>[szervezet] a lőcsei evangélikus gimnázium elő...</td>\n",
       "      <td>NaN</td>\n",
       "      <td>NaN</td>\n",
       "      <td>program</td>\n",
       "      <td>NaN</td>\n",
       "      <td>Meghívó a lőcsei evangélikus gimnázium hallgat...</td>\n",
       "      <td>2223</td>\n",
       "    </tr>\n",
       "    <tr>\n",
       "      <th>2</th>\n",
       "      <td>3</td>\n",
       "      <td>[szervezet] a lőcsei evangélikus gimnázium ünn...</td>\n",
       "      <td>NaN</td>\n",
       "      <td>NaN</td>\n",
       "      <td>program</td>\n",
       "      <td>NaN</td>\n",
       "      <td>A lőcsei evangélikus gimnázium 1666. január 30...</td>\n",
       "      <td>3295</td>\n",
       "    </tr>\n",
       "    <tr>\n",
       "      <th>3</th>\n",
       "      <td>4</td>\n",
       "      <td>[szervezet] a lőcsei evangélikus gimnázium viz...</td>\n",
       "      <td>NaN</td>\n",
       "      <td>NaN</td>\n",
       "      <td>vizsga</td>\n",
       "      <td>NaN</td>\n",
       "      <td>A nyomtatvány a lőcsei evangélikus gimnázium 1...</td>\n",
       "      <td>3296</td>\n",
       "    </tr>\n",
       "    <tr>\n",
       "      <th>4</th>\n",
       "      <td>5</td>\n",
       "      <td>[szervezet] a lőcsei evangélikus gimnázium viz...</td>\n",
       "      <td>NaN</td>\n",
       "      <td>NaN</td>\n",
       "      <td>vizsga</td>\n",
       "      <td>NaN</td>\n",
       "      <td>1646. szeptember 9. A tételeket szeptember 25-...</td>\n",
       "      <td>2147</td>\n",
       "    </tr>\n",
       "  </tbody>\n",
       "</table>\n",
       "</div>"
      ],
      "text/plain": [
       "   id                                                név születési hely  \\\n",
       "0   1  [szervezet] a besztercebányai evangélikus isko...            NaN   \n",
       "1   2  [szervezet] a lőcsei evangélikus gimnázium elő...            NaN   \n",
       "2   3  [szervezet] a lőcsei evangélikus gimnázium ünn...            NaN   \n",
       "3   4  [szervezet] a lőcsei evangélikus gimnázium viz...            NaN   \n",
       "4   5  [szervezet] a lőcsei evangélikus gimnázium viz...            NaN   \n",
       "\n",
       "  névváltozat foglalkozás életrajzi hivatkozás  \\\n",
       "0         NaN      vizsga                  NaN   \n",
       "1         NaN     program                  NaN   \n",
       "2         NaN     program                  NaN   \n",
       "3         NaN      vizsga                  NaN   \n",
       "4         NaN      vizsga                  NaN   \n",
       "\n",
       "                                        rövid leírás RMNy (alkalmi)  \n",
       "0  A tételeket 1642 májusában vitatták meg a besz...           1934  \n",
       "1  Meghívó a lőcsei evangélikus gimnázium hallgat...           2223  \n",
       "2  A lőcsei evangélikus gimnázium 1666. január 30...           3295  \n",
       "3  A nyomtatvány a lőcsei evangélikus gimnázium 1...           3296  \n",
       "4  1646. szeptember 9. A tételeket szeptember 25-...           2147  "
      ]
     },
     "execution_count": 2,
     "metadata": {},
     "output_type": "execute_result"
    }
   ],
   "source": [
    "citizens = pandas.read_excel('szemelyek.xlsx')\n",
    "citizens.head()"
   ]
  },
  {
   "cell_type": "markdown",
   "id": "03a2c547",
   "metadata": {},
   "source": [
    "Az alábbiakban két külön listába szedem az 1600-as névsort és az 1667-es névsort, majd a listákat metszem a Python beépített halmazkezelő függvényeivel. Ezekből az adatokból, a listák méretét megadva 2-elemű Venn-diagrammot tudunk készíteni a matplotlib-re épülő matplotlib-venn könyvtár segítségével."
   ]
  },
  {
   "cell_type": "code",
   "execution_count": 3,
   "id": "fd99d423",
   "metadata": {
    "scrolled": false
   },
   "outputs": [
    {
     "data": {
      "image/png": "[encoded data removed]",
      "text/plain": [
       "<Figure size 640x480 with 1 Axes>"
      ]
     },
     "metadata": {},
     "output_type": "display_data"
    }
   ],
   "source": [
    "list_1620 = records['lőcsei családok 1600'].dropna().values.tolist()\n",
    "list_1667 = records['lőcsei családok 1667'].dropna().values.tolist()\n",
    "list_intersection = list(set(list_1620).intersection(list_1667))\n",
    "\n",
    "\n",
    "venn2(subsets = (len(list_1620), len(list_1667), len(list_intersection)), set_labels = ('1620', '1667'))\n",
    "plt.show()"
   ]
  },
  {
   "cell_type": "markdown",
   "id": "11ec09e2",
   "metadata": {},
   "source": [
    "A következőkben egy új adatstruktúrát határozunk meg, amiben az összes lőcse polgári családnév szerepel, majd összevetjük a polgárok névsorával."
   ]
  },
  {
   "cell_type": "code",
   "execution_count": 4,
   "id": "ac207625",
   "metadata": {},
   "outputs": [
    {
     "data": {
      "text/html": [
       "<div>\n",
       "<style scoped>\n",
       "    .dataframe tbody tr th:only-of-type {\n",
       "        vertical-align: middle;\n",
       "    }\n",
       "\n",
       "    .dataframe tbody tr th {\n",
       "        vertical-align: top;\n",
       "    }\n",
       "\n",
       "    .dataframe thead th {\n",
       "        text-align: right;\n",
       "    }\n",
       "</style>\n",
       "<table border=\"1\" class=\"dataframe\">\n",
       "  <thead>\n",
       "    <tr style=\"text-align: right;\">\n",
       "      <th></th>\n",
       "      <th>name</th>\n",
       "      <th>records</th>\n",
       "      <th>year</th>\n",
       "    </tr>\n",
       "  </thead>\n",
       "  <tbody>\n",
       "    <tr>\n",
       "      <th>0</th>\n",
       "      <td>Abscheimen</td>\n",
       "      <td>0</td>\n",
       "      <td>1620</td>\n",
       "    </tr>\n",
       "    <tr>\n",
       "      <th>1</th>\n",
       "      <td>Abzieher</td>\n",
       "      <td>0</td>\n",
       "      <td>1620</td>\n",
       "    </tr>\n",
       "    <tr>\n",
       "      <th>2</th>\n",
       "      <td>Audrich</td>\n",
       "      <td>0</td>\n",
       "      <td>1620</td>\n",
       "    </tr>\n",
       "    <tr>\n",
       "      <th>3</th>\n",
       "      <td>Bank</td>\n",
       "      <td>0</td>\n",
       "      <td>1620</td>\n",
       "    </tr>\n",
       "    <tr>\n",
       "      <th>4</th>\n",
       "      <td>Bardt</td>\n",
       "      <td>0</td>\n",
       "      <td>1620</td>\n",
       "    </tr>\n",
       "  </tbody>\n",
       "</table>\n",
       "</div>"
      ],
      "text/plain": [
       "         name  records  year\n",
       "0  Abscheimen        0  1620\n",
       "1    Abzieher        0  1620\n",
       "2     Audrich        0  1620\n",
       "3        Bank        0  1620\n",
       "4       Bardt        0  1620"
      ]
     },
     "execution_count": 4,
     "metadata": {},
     "output_type": "execute_result"
    }
   ],
   "source": [
    "def find_in_citizen_records(name):\n",
    "    index_name = citizens['név'].str.contains(name, na=False)\n",
    "    index_alt_name = citizens['névváltozat'].str.contains(name, na=False)\n",
    "    \n",
    "    index_list = citizens[index_name]\n",
    "    index_alt_list = citizens[index_alt_name]\n",
    "    number_of_records =  len(index_list) + len(index_alt_list)\n",
    "    \n",
    "    return number_of_records\n",
    "        \n",
    "list_of_names = []\n",
    "for item in list_1620:\n",
    "    record = {}\n",
    "    record['name'] = item\n",
    "    record['records'] = find_in_citizen_records(item)\n",
    "    record['year'] = '1620'\n",
    "    list_of_names.append(record)\n",
    "    \n",
    "for item in list_intersection:\n",
    "    record = {}\n",
    "    record['name'] = item\n",
    "    record['records'] = find_in_citizen_records(item)\n",
    "    record['year'] = 'both'\n",
    "    list_of_names.append(record)\n",
    "    \n",
    "for item in list_1667:\n",
    "    record = {}\n",
    "    record['name'] = item\n",
    "    record['records'] = find_in_citizen_records(item)\n",
    "    record['year'] = '1667'\n",
    "    list_of_names.append(record)\n",
    "\n",
    "\n",
    "df = pandas.DataFrame.from_records(list_of_names)\n",
    "df.head()"
   ]
  },
  {
   "cell_type": "markdown",
   "id": "ffed1d43",
   "metadata": {},
   "source": [
    "A következőben egy megjelenítőt készítünk az így létrejött adatstruktúrának. "
   ]
  },
  {
   "cell_type": "code",
   "execution_count": 6,
   "id": "43bfad4d",
   "metadata": {},
   "outputs": [
    {
     "ename": "AttributeError",
     "evalue": "'Styler' object has no attribute 'head'",
     "output_type": "error",
     "traceback": [
      "\u001b[0;31m---------------------------------------------------------------------------\u001b[0m",
      "\u001b[0;31mAttributeError\u001b[0m                            Traceback (most recent call last)",
      "Cell \u001b[0;32mIn[6], line 3\u001b[0m\n\u001b[1;32m      1\u001b[0m df \u001b[38;5;241m=\u001b[39m df\u001b[38;5;241m.\u001b[39msort_values(by\u001b[38;5;241m=\u001b[39m[\u001b[38;5;124m'\u001b[39m\u001b[38;5;124mrecords\u001b[39m\u001b[38;5;124m'\u001b[39m], ascending\u001b[38;5;241m=\u001b[39m\u001b[38;5;28;01mFalse\u001b[39;00m)\n\u001b[1;32m      2\u001b[0m df \u001b[38;5;241m=\u001b[39m df\u001b[38;5;241m.\u001b[39mstyle\u001b[38;5;241m.\u001b[39mset_caption(\u001b[38;5;124m\"\u001b[39m\u001b[38;5;124mA nyomtatványok között leggyakrabban előforduló családnevek\u001b[39m\u001b[38;5;124m\"\u001b[39m)\n\u001b[0;32m----> 3\u001b[0m \u001b[43mdf\u001b[49m\u001b[38;5;241;43m.\u001b[39;49m\u001b[43mhead\u001b[49m()\n",
      "\u001b[0;31mAttributeError\u001b[0m: 'Styler' object has no attribute 'head'"
     ]
    }
   ],
   "source": [
    "df = df.sort_values(by=['records'], ascending=False)\n",
    "df = df.style.set_caption(\"A nyomtatványok között leggyakrabban előforduló családnevek\")\n",
    "df"
   ]
  },
  {
   "cell_type": "code",
   "execution_count": null,
   "id": "c62aab4a",
   "metadata": {},
   "outputs": [],
   "source": []
  }
 ],
 "metadata": {
  "kernelspec": {
   "display_name": "Python 3 (ipykernel)",
   "language": "python",
   "name": "python3"
  },
  "language_info": {
   "codemirror_mode": {
    "name": "ipython",
    "version": 3
   },
   "file_extension": ".py",
   "mimetype": "text/x-python",
   "name": "python",
   "nbconvert_exporter": "python",
   "pygments_lexer": "ipython3",
   "version": "3.9.7"
  }
 },
 "nbformat": 4,
 "nbformat_minor": 5
}
